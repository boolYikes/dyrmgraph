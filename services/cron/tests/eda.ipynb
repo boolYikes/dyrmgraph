{
 "cells": [
  {
   "cell_type": "code",
   "execution_count": 1,
   "id": "248bcb08",
   "metadata": {},
   "outputs": [],
   "source": [
    "import json\n",
    "\n",
    "import pandas as pd"
   ]
  },
  {
   "cell_type": "code",
   "execution_count": null,
   "id": "e0292f23",
   "metadata": {},
   "outputs": [],
   "source": [
    "path = '/lab/dee/repos_side/dyrmgraph/data/gdelt/20150218231500.gkg.csv.zip'\n",
    "col_path = '/lab/dee/repos_side/dyrmgraph/data/column_dictionary.json'\n",
    "with open(col_path) as f:\n",
    "  cols = json.load(f)\n",
    "\n",
    "gkg_cols = cols['gkg']\n",
    "idx_map = {int(k): v for k, v in gkg_cols.items()}\n",
    "\n",
    "gkg = pd.read_csv(path, header=None, delimiter='\\t').rename(columns=idx_map)"
   ]
  },
  {
   "cell_type": "code",
   "execution_count": null,
   "id": "7dbd6988",
   "metadata": {},
   "outputs": [
    {
     "name": "stdout",
     "output_type": "stream",
     "text": [
      "max dim: 360 (!!only accounts for this timestamp!!)\n",
      "nans: 272\n"
     ]
    }
   ],
   "source": [
    "n_dims = 0\n",
    "nans = 0\n",
    "for row in gkg['V2ENHANCEDTHEMES']:\n",
    "  try:\n",
    "    n_dims = max(n_dims, len(row.split(';')))  # trying to figure out max dimensions\n",
    "  except BaseException:\n",
    "    nans += 1\n",
    "print(f'max dim: {n_dims} (!!only accounts for this timestamp!!)')\n",
    "print(f'nans: {nans}')"
   ]
  },
  {
   "cell_type": "code",
   "execution_count": null,
   "id": "a80cb0cf",
   "metadata": {},
   "outputs": [
    {
     "name": "stdout",
     "output_type": "stream",
     "text": [
      "The dims in the records are homogenous, number of nans: 596\n"
     ]
    }
   ],
   "source": [
    "n_dims = []\n",
    "nans = 0\n",
    "for row in gkg['V2ENHANCEDLOCATIONS']:\n",
    "  try:\n",
    "    records = row.split(';')\n",
    "    if records:\n",
    "      for rec in records:\n",
    "        n_dims.append(len(rec.split('#')))\n",
    "  except BaseException:\n",
    "    nans += 1\n",
    "\n",
    "is_homogenous = all(e == 9 for e in n_dims)\n",
    "print(\n",
    "  f\"\"\"The dims in the records are {'homogenous' if is_homogenous else 'hetergenous'}, \n",
    "  number of nans: {nans}\"\"\"\n",
    ")"
   ]
  }
 ],
 "metadata": {
  "kernelspec": {
   "display_name": ".venv",
   "language": "python",
   "name": "python3"
  },
  "language_info": {
   "codemirror_mode": {
    "name": "ipython",
    "version": 3
   },
   "file_extension": ".py",
   "mimetype": "text/x-python",
   "name": "python",
   "nbconvert_exporter": "python",
   "pygments_lexer": "ipython3",
   "version": "3.12.3"
  }
 },
 "nbformat": 4,
 "nbformat_minor": 5
}
